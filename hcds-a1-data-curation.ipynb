{
 "cells": [
  {
   "cell_type": "markdown",
   "metadata": {},
   "source": [
    "# Assignment 1: Data Curation\n",
    "\n",
    "DATA 512A Fall 2018\n",
    "\n",
    "Ryan Bae\n",
    "\n",
    "Due Date: Thursday October 18th, 2018\n"
   ]
  },
  {
   "cell_type": "markdown",
   "metadata": {},
   "source": [
    "## Obtaining Data From Wikimedia API\n",
    "\n",
    "This section contains code that pulls the necessary data from the Wikimedia API for page views of english wikipedia.org. The desired views are monthly total views for users only. \n",
    "\n",
    "The data is pulled from 2 sources, legacy page counts API and current page views API. For each source, following date ranges and page types are used:\n",
    "\n",
    "* **Legacy Page Count API**\n",
    "    * Date Range: December 2017 - July 2016\n",
    "    * Page Type: desktop-site, mobile-site\n",
    "    \n",
    "  \n",
    "* **Current Page View API**\n",
    "    * Date Range: July 2015 - September 2018\n",
    "    * Page Type: desktop-site, mobile-app, mobile-web\n",
    "    \n",
    "\n",
    "The downloaded data is saved as 5 separate json files, each for different page type in each API."
   ]
  },
  {
   "cell_type": "code",
   "execution_count": 1,
   "metadata": {},
   "outputs": [],
   "source": [
    "# imports\n",
    "import json\n",
    "import requests\n",
    "import pandas as pd\n",
    "import numpy as np\n",
    "import matplotlib.pyplot as plt\n",
    "%matplotlib inline\n",
    "import seaborn as sns\n",
    "sns.set(style=\"darkgrid\")\n",
    "from functools import reduce"
   ]
  },
  {
   "cell_type": "markdown",
   "metadata": {},
   "source": [
    "Below are parameters to accessing the API. "
   ]
  },
  {
   "cell_type": "code",
   "execution_count": 2,
   "metadata": {
    "collapsed": true
   },
   "outputs": [],
   "source": [
    "# endpoints\n",
    "endpoint_legacy = 'https://wikimedia.org/api/rest_v1/metrics/legacy/pagecounts/aggregate/{project}/{access-site}/{granularity}/{start}/{end}'\n",
    "\n",
    "endpoint_pageviews = 'https://wikimedia.org/api/rest_v1/metrics/pageviews/aggregate/{project}/{access}/{agent}/{granularity}/{start}/{end}'"
   ]
  },
  {
   "cell_type": "code",
   "execution_count": 3,
   "metadata": {
    "collapsed": true
   },
   "outputs": [],
   "source": [
    "# legacy pagecount paramters\n",
    "params_legacy_desktop = {\"project\" : 'en.wikipedia.org',\n",
    "                     \"access-site\" : \"desktop-site\",\n",
    "                     \"granularity\" : \"monthly\",\n",
    "                     \"start\" : \"2007120100\",\n",
    "                    # for end use 1st day of month following final month of data\n",
    "                     \"end\" : \"2016070100\"\n",
    "                    }\n",
    "params_legacy_mobile = {\"project\" : 'en.wikipedia.org',\n",
    "                     \"access-site\" : \"mobile-site\",\n",
    "                     \"granularity\" : \"monthly\",\n",
    "                     \"start\" : \"2007120100\",\n",
    "                    # for end use 1st day of month following final month of data\n",
    "                     \"end\" : \"2016070100\"\n",
    "                    }\n",
    "\n",
    "# pageview parameters\n",
    "params_pageviews_desktop = {\"project\" : 'en.wikipedia.org',\n",
    "                        \"access\" : \"desktop\",\n",
    "                        \"agent\" : \"user\",\n",
    "                        \"granularity\" : \"monthly\",\n",
    "                        \"start\" : \"2015070100\",\n",
    "                        # for end use 1st day of month following final month of data\n",
    "                        \"end\" : '2018100100'\n",
    "                        }\n",
    "params_pageviews_mobileapp = {\"project\" : 'en.wikipedia.org',\n",
    "                        \"access\" : \"mobile-app\",\n",
    "                        \"agent\" : \"user\",\n",
    "                        \"granularity\" : \"monthly\",\n",
    "                        \"start\" : \"2015070100\",\n",
    "                        # for end use 1st day of month following final month of data\n",
    "                        \"end\" : '2018100100'\n",
    "                        }\n",
    "params_pageviews_mobileweb = {\"project\" : 'en.wikipedia.org',\n",
    "                        \"access\" : \"mobile-web\",\n",
    "                        \"agent\" : \"user\",\n",
    "                        \"granularity\" : \"monthly\",\n",
    "                        \"start\" : \"2015070100\",\n",
    "                        # for end use 1st day of month following final month of data\n",
    "                        \"end\" : '2018100100'\n",
    "                        }\n",
    "\n",
    "# Customize these with your own information\n",
    "headers = {\n",
    "    'User-Agent': 'https://github.com/ryanbae89',\n",
    "    'From': 'rbae@uw.edu'\n",
    "}"
   ]
  },
  {
   "cell_type": "markdown",
   "metadata": {},
   "source": [
    "Below is the function for the API call. It takes in the endpoint and parameters specified above as input, and returns the data as response."
   ]
  },
  {
   "cell_type": "code",
   "execution_count": 4,
   "metadata": {
    "collapsed": true
   },
   "outputs": [],
   "source": [
    "# function for API call\n",
    "def api_call(endpoint, parameters):\n",
    "    call = requests.get(endpoint.format(**parameters), headers=headers)\n",
    "    response = call.json()\n",
    "    return response"
   ]
  },
  {
   "cell_type": "markdown",
   "metadata": {},
   "source": [
    "The function is called on 5 different page types to generate 5 dictionaries."
   ]
  },
  {
   "cell_type": "code",
   "execution_count": 5,
   "metadata": {
    "collapsed": true
   },
   "outputs": [],
   "source": [
    "# get data from API\n",
    "# Legacy Pagecounts (desktop-site)\n",
    "monthly_pagecounts_desktop = api_call(endpoint_legacy, params_legacy_desktop)\n",
    "# Legacy Pagecounts (mobile)\n",
    "monthly_pagecounts_mobile = api_call(endpoint_legacy, params_legacy_mobile)\n",
    "# Pageviews (desktop)\n",
    "monthly_pageviews_desktop = api_call(endpoint_pageviews, params_pageviews_desktop)\n",
    "# Pageviews (mobile-app)\n",
    "monthly_pageviews_mobileapp = api_call(endpoint_pageviews, params_pageviews_mobileapp)\n",
    "# Pageviews (mobile-web)\n",
    "monthly_pageviews_mobileweb = api_call(endpoint_pageviews, params_pageviews_mobileweb)"
   ]
  },
  {
   "cell_type": "markdown",
   "metadata": {},
   "source": [
    "Here the data is saved to json files, for each API/page type combination. There are total of 5 json files."
   ]
  },
  {
   "cell_type": "code",
   "execution_count": 6,
   "metadata": {
    "collapsed": true
   },
   "outputs": [],
   "source": [
    "# save to json files\n",
    "json_files = ['pagecounts_desktop-site_200712-201607.json',\n",
    "              'pagecounts_mobile-site_200712-201607.json',\n",
    "              'pageviews_desktop_201507-201809.json',\n",
    "              'pageviews_mobile-app_201507-201809.json',\n",
    "              'pageviews_mobile-web_201507-201809.json']\n",
    "json_data = [monthly_pagecounts_desktop,\n",
    "        monthly_pagecounts_mobile,\n",
    "        monthly_pageviews_desktop,\n",
    "        monthly_pageviews_mobileapp,\n",
    "        monthly_pageviews_mobileweb]\n",
    "\n",
    "for i, filename in enumerate(json_files):\n",
    "    with open(filename, 'w') as outfile:\n",
    "        json.dump(json_data[i], outfile)"
   ]
  },
  {
   "cell_type": "markdown",
   "metadata": {},
   "source": [
    "## Data and Features Engineering\n",
    "\n",
    "This section performs data and feature engineering on the downloaded json data. The json files have the following keys:\n",
    "\n",
    "* **Legacy Page Count json file schema**\n",
    "    * access-site\n",
    "    * count\n",
    "    * granularity\n",
    "    * project \n",
    "    * timestamp\n",
    "\n",
    "* **Current Page Views json file schema**\n",
    "    * access\n",
    "    * agent\n",
    "    * granularity\n",
    "    * project \n",
    "    * timestamp\n",
    "    * views\n",
    "\n",
    "It happens in the following steps:\n",
    "\n",
    "* json files are converted to pandas dataframes\n",
    "* *year* and *month* features are generated from *timestamp*\n",
    "* *granularity*, *project*, and *timestamp* are dropped\n",
    "* *view* and *count* are renamed according to the *access* and *access-site*\n",
    "* *access* and *agent* are dropped\n",
    "* mobile app and mobile web views are combined by joining on *year* and *month*\n",
    "* rest of the tables are joined into one *view* table on *year* and *month*\n",
    "* calculate all page count views and all page views for each API\n",
    "\n",
    "Final *view* table has the following schema:\n",
    "\n",
    "* year\n",
    "* month\n",
    "* pagecount_all_views\n",
    "* pagecount_desktop_views\n",
    "* pagecount_mobile_views\n",
    "* pageview_all_views\n",
    "* pageview_desktop_views\n",
    "* pageview_mobile_views\n",
    "\n",
    "And it is saved to a csv file."
   ]
  },
  {
   "cell_type": "code",
   "execution_count": 8,
   "metadata": {
    "collapsed": true
   },
   "outputs": [],
   "source": [
    "# load json files and combine them into a table\n",
    "pagecount_desktop = pd.DataFrame.from_dict(monthly_pagecounts_desktop['items'])\n",
    "pagecount_mobile = pd.DataFrame.from_dict(monthly_pagecounts_mobile['items'])\n",
    "pageview_desktop = pd.DataFrame.from_dict(monthly_pageviews_desktop['items'])\n",
    "pageview_mobileapp = pd.DataFrame.from_dict(monthly_pageviews_mobileapp['items'])\n",
    "pageview_mobileweb = pd.DataFrame.from_dict(monthly_pageviews_mobileweb['items'])\n",
    "\n",
    "pagecount_desktop.name = 'pagecount_desktop'\n",
    "pagecount_mobile.name = 'pagecount_mobile'\n",
    "pageview_desktop.name = 'pageview_desktop'\n",
    "pageview_mobileapp.name = 'pageview_mobileapp'\n",
    "pageview_mobileweb.name ='pageview_mobileweb'\n",
    "\n",
    "pages = [pagecount_desktop, pagecount_mobile, pageview_desktop,\n",
    "         pageview_mobileapp, pageview_mobileweb]"
   ]
  },
  {
   "cell_type": "markdown",
   "metadata": {},
   "source": [
    "Below *clean_data* function performs the data cleaning as described above."
   ]
  },
  {
   "cell_type": "code",
   "execution_count": 11,
   "metadata": {
    "scrolled": false
   },
   "outputs": [],
   "source": [
    "# function for data engineering\n",
    "def clean_data(df, pagetype):\n",
    "    # get dataframe name for renaming view/count column\n",
    "    view_str = df.name\n",
    "    # get year and month for each row\n",
    "    df['year'] = df['timestamp'].str[:4]\n",
    "    df['month'] = df['timestamp'].str[4:6]\n",
    "    # drop unnecessary columns\n",
    "    df = df.drop(['granularity', 'project', 'timestamp'], axis=1)\n",
    "    # rename view/count column and drop more unnecessary columns conditionally\n",
    "    view_str = view_str + '_views'\n",
    "    if pagetype == 'view':\n",
    "        df = df.rename(index=str, columns={\"views\": view_str})\n",
    "        df = df.drop(['access', 'agent'], axis=1)\n",
    "    elif pagetype == 'count':\n",
    "        df = df.rename(index=str, columns={\"count\": view_str})\n",
    "        df = df.drop('access-site', axis=1)\n",
    "    return df\n",
    "\n",
    "# clean data and engineer year/month features\n",
    "pagecount_desktop = clean_data(pagecount_desktop, 'count')\n",
    "pagecount_mobile = clean_data(pagecount_mobile, 'count')\n",
    "pageview_desktop = clean_data(pageview_desktop, 'view')\n",
    "pageview_mobileapp = clean_data(pageview_mobileapp, 'view')\n",
    "pageview_mobileweb = clean_data(pageview_mobileweb, 'view')"
   ]
  },
  {
   "cell_type": "markdown",
   "metadata": {},
   "source": [
    "The page view for mobile app and mobile web are combined into page view for mobile below. This is done using an outer join on *year* and *month* columns between the two dataframes."
   ]
  },
  {
   "cell_type": "code",
   "execution_count": 12,
   "metadata": {
    "scrolled": false
   },
   "outputs": [
    {
     "data": {
      "text/html": [
       "<div>\n",
       "<style>\n",
       "    .dataframe thead tr:only-child th {\n",
       "        text-align: right;\n",
       "    }\n",
       "\n",
       "    .dataframe thead th {\n",
       "        text-align: left;\n",
       "    }\n",
       "\n",
       "    .dataframe tbody tr th {\n",
       "        vertical-align: top;\n",
       "    }\n",
       "</style>\n",
       "<table border=\"1\" class=\"dataframe\">\n",
       "  <thead>\n",
       "    <tr style=\"text-align: right;\">\n",
       "      <th></th>\n",
       "      <th>year</th>\n",
       "      <th>month</th>\n",
       "      <th>pageview_mobile_views</th>\n",
       "    </tr>\n",
       "  </thead>\n",
       "  <tbody>\n",
       "    <tr>\n",
       "      <th>0</th>\n",
       "      <td>2015</td>\n",
       "      <td>07</td>\n",
       "      <td>3288755294</td>\n",
       "    </tr>\n",
       "    <tr>\n",
       "      <th>1</th>\n",
       "      <td>2015</td>\n",
       "      <td>08</td>\n",
       "      <td>3302333038</td>\n",
       "    </tr>\n",
       "    <tr>\n",
       "      <th>2</th>\n",
       "      <td>2015</td>\n",
       "      <td>09</td>\n",
       "      <td>3170203333</td>\n",
       "    </tr>\n",
       "    <tr>\n",
       "      <th>3</th>\n",
       "      <td>2015</td>\n",
       "      <td>10</td>\n",
       "      <td>3268499132</td>\n",
       "    </tr>\n",
       "    <tr>\n",
       "      <th>4</th>\n",
       "      <td>2015</td>\n",
       "      <td>11</td>\n",
       "      <td>3236601070</td>\n",
       "    </tr>\n",
       "  </tbody>\n",
       "</table>\n",
       "</div>"
      ],
      "text/plain": [
       "   year month  pageview_mobile_views\n",
       "0  2015    07             3288755294\n",
       "1  2015    08             3302333038\n",
       "2  2015    09             3170203333\n",
       "3  2015    10             3268499132\n",
       "4  2015    11             3236601070"
      ]
     },
     "execution_count": 12,
     "metadata": {},
     "output_type": "execute_result"
    }
   ],
   "source": [
    "# join and sum pageviews_mobileapp and pageviews_mobileweb\n",
    "pageview_mobile = pageview_mobileapp.merge(right=pageview_mobileweb,\n",
    "                                             on=['year', 'month'], how='outer')\n",
    "pageview_mobile['pageview_mobile_views'] = pageview_mobile['pageview_mobileweb_views'] + pageview_mobile['pageview_mobileapp_views']\n",
    "pageview_mobile = pageview_mobile[['year', 'month', 'pageview_mobile_views']]\n",
    "pageview_mobile.head()"
   ]
  },
  {
   "cell_type": "markdown",
   "metadata": {},
   "source": [
    "Now all 4 dataframes are outer-joined on *year* and *month* to generate the final *views* dataframe. Then the desktop and mobile views for each API are added to generate all_views feature. All NaN values are filled with 0 and column names are reordered."
   ]
  },
  {
   "cell_type": "code",
   "execution_count": 16,
   "metadata": {
    "scrolled": true
   },
   "outputs": [
    {
     "data": {
      "text/html": [
       "<div>\n",
       "<style>\n",
       "    .dataframe thead tr:only-child th {\n",
       "        text-align: right;\n",
       "    }\n",
       "\n",
       "    .dataframe thead th {\n",
       "        text-align: left;\n",
       "    }\n",
       "\n",
       "    .dataframe tbody tr th {\n",
       "        vertical-align: top;\n",
       "    }\n",
       "</style>\n",
       "<table border=\"1\" class=\"dataframe\">\n",
       "  <thead>\n",
       "    <tr style=\"text-align: right;\">\n",
       "      <th></th>\n",
       "      <th>year</th>\n",
       "      <th>month</th>\n",
       "      <th>pagecount_all_views</th>\n",
       "      <th>pagecount_desktop_views</th>\n",
       "      <th>pagecount_mobile_views</th>\n",
       "      <th>pageview_all_views</th>\n",
       "      <th>pageview_desktop_views</th>\n",
       "      <th>pageview_mobile_views</th>\n",
       "    </tr>\n",
       "  </thead>\n",
       "  <tbody>\n",
       "    <tr>\n",
       "      <th>0</th>\n",
       "      <td>2007</td>\n",
       "      <td>12</td>\n",
       "      <td>2.998332e+09</td>\n",
       "      <td>2.998332e+09</td>\n",
       "      <td>0.0</td>\n",
       "      <td>0.0</td>\n",
       "      <td>0.0</td>\n",
       "      <td>0.0</td>\n",
       "    </tr>\n",
       "    <tr>\n",
       "      <th>1</th>\n",
       "      <td>2008</td>\n",
       "      <td>01</td>\n",
       "      <td>4.930903e+09</td>\n",
       "      <td>4.930903e+09</td>\n",
       "      <td>0.0</td>\n",
       "      <td>0.0</td>\n",
       "      <td>0.0</td>\n",
       "      <td>0.0</td>\n",
       "    </tr>\n",
       "    <tr>\n",
       "      <th>2</th>\n",
       "      <td>2008</td>\n",
       "      <td>02</td>\n",
       "      <td>4.818394e+09</td>\n",
       "      <td>4.818394e+09</td>\n",
       "      <td>0.0</td>\n",
       "      <td>0.0</td>\n",
       "      <td>0.0</td>\n",
       "      <td>0.0</td>\n",
       "    </tr>\n",
       "    <tr>\n",
       "      <th>3</th>\n",
       "      <td>2008</td>\n",
       "      <td>03</td>\n",
       "      <td>4.955406e+09</td>\n",
       "      <td>4.955406e+09</td>\n",
       "      <td>0.0</td>\n",
       "      <td>0.0</td>\n",
       "      <td>0.0</td>\n",
       "      <td>0.0</td>\n",
       "    </tr>\n",
       "    <tr>\n",
       "      <th>4</th>\n",
       "      <td>2008</td>\n",
       "      <td>04</td>\n",
       "      <td>5.159162e+09</td>\n",
       "      <td>5.159162e+09</td>\n",
       "      <td>0.0</td>\n",
       "      <td>0.0</td>\n",
       "      <td>0.0</td>\n",
       "      <td>0.0</td>\n",
       "    </tr>\n",
       "  </tbody>\n",
       "</table>\n",
       "</div>"
      ],
      "text/plain": [
       "   year month  pagecount_all_views  pagecount_desktop_views  \\\n",
       "0  2007    12         2.998332e+09             2.998332e+09   \n",
       "1  2008    01         4.930903e+09             4.930903e+09   \n",
       "2  2008    02         4.818394e+09             4.818394e+09   \n",
       "3  2008    03         4.955406e+09             4.955406e+09   \n",
       "4  2008    04         5.159162e+09             5.159162e+09   \n",
       "\n",
       "   pagecount_mobile_views  pageview_all_views  pageview_desktop_views  \\\n",
       "0                     0.0                 0.0                     0.0   \n",
       "1                     0.0                 0.0                     0.0   \n",
       "2                     0.0                 0.0                     0.0   \n",
       "3                     0.0                 0.0                     0.0   \n",
       "4                     0.0                 0.0                     0.0   \n",
       "\n",
       "   pageview_mobile_views  \n",
       "0                    0.0  \n",
       "1                    0.0  \n",
       "2                    0.0  \n",
       "3                    0.0  \n",
       "4                    0.0  "
      ]
     },
     "execution_count": 16,
     "metadata": {},
     "output_type": "execute_result"
    }
   ],
   "source": [
    "# join all the tables into a single table for plotting\n",
    "pages = [pagecount_desktop, pagecount_mobile, pageview_desktop, pageview_mobile]\n",
    "views = reduce(lambda left, right: pd.merge(left, right, on=['year', 'month'],\n",
    "               how='outer'), pages)\n",
    "# fill nans\n",
    "views = views.fillna(value=0)\n",
    "# engineer all_views features\n",
    "views['pagecount_all_views'] = views['pagecount_desktop_views'] + views['pagecount_mobile_views']\n",
    "views['pageview_all_views'] = views['pageview_desktop_views'] + views['pageview_mobile_views']\n",
    "# reorder columns\n",
    "views = views[['year', 'month', 'pagecount_all_views',\n",
    "              'pagecount_desktop_views', 'pagecount_mobile_views',\n",
    "              'pageview_all_views', 'pageview_desktop_views', 'pageview_mobile_views']]\n",
    "views.head()"
   ]
  },
  {
   "cell_type": "markdown",
   "metadata": {},
   "source": [
    "The *views* dataframe is saved to csv below."
   ]
  },
  {
   "cell_type": "code",
   "execution_count": 30,
   "metadata": {
    "collapsed": true
   },
   "outputs": [],
   "source": [
    "# save views to csv\n",
    "views.to_csv('en-wikipedia_traffic_200712-201809.csv')"
   ]
  },
  {
   "cell_type": "markdown",
   "metadata": {},
   "source": [
    "## Visualization\n",
    "\n",
    "The visualization is a plot of the monthly views for each API and page type. First, the date range is genreated for plotting purposes. "
   ]
  },
  {
   "cell_type": "code",
   "execution_count": 17,
   "metadata": {},
   "outputs": [
    {
     "data": {
      "text/plain": [
       "DatetimeIndex(['2007-12-31', '2008-01-31', '2008-02-29', '2008-03-31',\n",
       "               '2008-04-30', '2008-05-31', '2008-06-30', '2008-07-31',\n",
       "               '2008-08-31', '2008-09-30',\n",
       "               ...\n",
       "               '2017-12-31', '2018-01-31', '2018-02-28', '2018-03-31',\n",
       "               '2018-04-30', '2018-05-31', '2018-06-30', '2018-07-31',\n",
       "               '2018-08-31', '2018-09-30'],\n",
       "              dtype='datetime64[ns]', length=130, freq='M')"
      ]
     },
     "execution_count": 17,
     "metadata": {},
     "output_type": "execute_result"
    }
   ],
   "source": [
    "# get time feature for plotting\n",
    "year_month = pd.DatetimeIndex(start='2007-12-01',end='2018-10-01' , freq='M')\n",
    "year_month"
   ]
  },
  {
   "cell_type": "markdown",
   "metadata": {},
   "source": [
    "The plotting is done in code block below. Values of 0's are not plotted, and this is done by manually specifying start and end to the columns (*start_count*, *end_count*, and *start_view*).\n",
    "\n",
    "Also, the view counts themselves are divided by 1,000,000 so the viewer can interpret the y-axis more easily. "
   ]
  },
  {
   "cell_type": "code",
   "execution_count": 18,
   "metadata": {},
   "outputs": [
    {
     "data": {
      "image/png": "[encoded data removed]",
      "text/plain": [
       "<matplotlib.figure.Figure at 0x107a530d0>"
      ]
     },
     "metadata": {},
     "output_type": "display_data"
    }
   ],
   "source": [
    "# plot range and parameters\n",
    "start_count = 82\n",
    "end_count = 103\n",
    "start_view = 91\n",
    "lw = 3.0\n",
    "views_factor = 1e6\n",
    "\n",
    "# plot visualization\n",
    "fig, axs = plt.subplots(1, 1, figsize=(14,6))\n",
    "\n",
    "plt.plot(year_month[:end_count], views['pagecount_all_views'][:end_count]/views_factor,\n",
    "         ls='-', linewidth=lw)\n",
    "plt.plot(year_month[start_count:end_count], views['pagecount_desktop_views'][start_count:end_count]/views_factor,\n",
    "         ls='--', linewidth=lw)\n",
    "plt.plot(year_month[start_count:end_count], views['pagecount_mobile_views'][start_count:end_count]/views_factor, \n",
    "         ls='--', linewidth=lw)\n",
    "plt.plot(year_month[start_view:], views['pageview_all_views'][start_view:]/views_factor, \n",
    "         ls='-', linewidth=lw)\n",
    "plt.plot(year_month[start_view:], views['pageview_desktop_views'][start_view:]/views_factor, \n",
    "         ls='--', linewidth=lw)\n",
    "plt.plot(year_month[start_view:], views['pageview_mobile_views'][start_view:]/views_factor, \n",
    "         ls='--', linewidth=lw)\n",
    "\n",
    "plt.title('Page Views on English Wikipedia (x1,000,000)', fontsize=20)\n",
    "plt.legend(prop={'size': 12})\n",
    "plt.xlabel('Year', fontsize=20)\n",
    "plt.ylabel('Number of Views', fontsize=20)\n",
    "\n",
    "plt.show()"
   ]
  },
  {
   "cell_type": "markdown",
   "metadata": {},
   "source": [
    "The figure generated above is saved as png file below."
   ]
  },
  {
   "cell_type": "code",
   "execution_count": 19,
   "metadata": {
    "collapsed": true
   },
   "outputs": [],
   "source": [
    "# save figure \n",
    "fig.savefig('a1-visualization.png')"
   ]
  }
 ],
 "metadata": {
  "kernelspec": {
   "display_name": "Python 2",
   "language": "python",
   "name": "python2"
  },
  "language_info": {
   "codemirror_mode": {
    "name": "ipython",
    "version": 2
   },
   "file_extension": ".py",
   "mimetype": "text/x-python",
   "name": "python",
   "nbconvert_exporter": "python",
   "pygments_lexer": "ipython2",
   "version": "2.7.14"
  }
 },
 "nbformat": 4,
 "nbformat_minor": 2
}
